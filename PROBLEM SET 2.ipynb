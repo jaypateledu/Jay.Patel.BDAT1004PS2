{
 "cells": [
  {
   "cell_type": "code",
   "execution_count": 164,
   "id": "6260df8a",
   "metadata": {},
   "outputs": [
    {
     "data": {
      "text/plain": [
       "6"
      ]
     },
     "execution_count": 164,
     "metadata": {},
     "output_type": "execute_result"
    }
   ],
   "source": [
    "# Question 1\n",
    "\n",
    "a = 0\n",
    "def b():     \n",
    "    global a     \n",
    "    a = c(a)  \n",
    "def c(a):     \n",
    "    return a + 2\n",
    "\n",
    "b()\n",
    "b()\n",
    "b()\n",
    "a\n",
    "\n",
    "# variable a is assigned a value of 0. \n",
    "# Defined function b and made variable a global inside only of function b.\n",
    "# Defined function c.\n",
    "# b() is initially 0 and gets incremented by 2 with a+2. Another b() calls the function b and again it gets incremented by 2, that makes it 4.\n",
    "# Finally, last b() gets another increment of 2 so that makes it total of 6.\n",
    "# a prints the value 6 because value of b got stored in a."
   ]
  },
  {
   "cell_type": "code",
   "execution_count": 169,
   "id": "7469a96e",
   "metadata": {},
   "outputs": [
    {
     "name": "stdout",
     "output_type": "stream",
     "text": [
      "288\n",
      "File Jp.txt not found.\n"
     ]
    }
   ],
   "source": [
    "# Question 2\n",
    "\n",
    "def fileLength(filename):\n",
    "    try:\n",
    "        infile = open(filename, \"r\")\n",
    "        contents = infile.read()\n",
    "        infile.close()\n",
    "        print(len(contents))\n",
    "        \n",
    "    except:\n",
    "        print(\"File\", filename, \"not found.\")\n",
    "\n",
    "fileLength('example.txt')\n",
    "fileLength('Jp.txt') "
   ]
  },
  {
   "cell_type": "code",
   "execution_count": 166,
   "id": "ce35883a",
   "metadata": {},
   "outputs": [
    {
     "name": "stdout",
     "output_type": "stream",
     "text": [
      "['doll', 'firetruck', 'kitten']\n"
     ]
    }
   ],
   "source": [
    "# Question 3\n",
    "\n",
    "class Marsupial:\n",
    "    def __init__(self):\n",
    "        self.pouch = []\n",
    "        \n",
    "    def put_in_pouch(self, item):\n",
    "        self.pouch.append(item)\n",
    "        \n",
    "    def pouch_contents(self):\n",
    "        return self.pouch\n",
    "\n",
    "m = Marsupial()\n",
    "\n",
    "m.put_in_pouch('doll')\n",
    "m.put_in_pouch('firetruck')\n",
    "m.put_in_pouch('kitten')\n",
    "print(m.pouch_contents())\n"
   ]
  },
  {
   "cell_type": "code",
   "execution_count": 171,
   "id": "20e53ef9",
   "metadata": {},
   "outputs": [
    {
     "name": "stdout",
     "output_type": "stream",
     "text": [
      "1\n",
      "10\n",
      "5\n",
      "16\n",
      "8\n",
      "4\n",
      "2\n",
      "1\n"
     ]
    }
   ],
   "source": [
    "# Question 4\n",
    "\n",
    "def collatz(x):\n",
    "    \n",
    "    if x == 1:\n",
    "        print(x)\n",
    "        \n",
    "    elif x%2 == 0:\n",
    "        print(x)\n",
    "        collatz(x//2)\n",
    "        \n",
    "    else:\n",
    "        print(x)\n",
    "        collatz(3*x+1)\n",
    "\n",
    "collatz(1)\n",
    "collatz(10)\n"
   ]
  },
  {
   "cell_type": "code",
   "execution_count": 148,
   "id": "64e45bfa",
   "metadata": {},
   "outputs": [
    {
     "name": "stdout",
     "output_type": "stream",
     "text": [
      "0\n",
      "1\n",
      "11\n",
      "1001\n"
     ]
    }
   ],
   "source": [
    "# Question 5\n",
    "\n",
    "def binary(n):\n",
    "    if n == 0:\n",
    "        return \"0\"\n",
    "    \n",
    "    elif n == 1:\n",
    "        return \"1\"\n",
    "    \n",
    "    else:\n",
    "        return binary(n//2) + str(n%2)\n",
    "    \n",
    "print(binary(0))\n",
    "print(binary(1))\n",
    "print(binary(3))\n",
    "print(binary(9))\n",
    "\n",
    "\n"
   ]
  },
  {
   "cell_type": "code",
   "execution_count": 168,
   "id": "0d1c1372",
   "metadata": {},
   "outputs": [
    {
     "name": "stdout",
     "output_type": "stream",
     "text": [
      " W3C Mission\n",
      "  Principles\n"
     ]
    }
   ],
   "source": [
    "# Question 6\n",
    "\n",
    "from html.parser import HTMLParser\n",
    "class HeadingParser(HTMLParser):\n",
    "  \n",
    "    def __init__(self):\n",
    "        super().__init__()\n",
    "        self.x = []\n",
    "        self.y = {'h1': 0, 'h2': 1, 'h3': 2, 'h4': 3, 'h5': 4, 'h6': 5}\n",
    "\n",
    "    def handle_starttag(self, tag, attrs):\n",
    "        if tag in self.y:\n",
    "            level = self.y[tag]\n",
    "            if self.x and level <= self.x[-1]:\n",
    "                self.x.pop()\n",
    "            self.x.append(level)\n",
    "\n",
    "    def handle_endtag(self, tag):\n",
    "        if tag in self.y:\n",
    "            self.x.pop()\n",
    "\n",
    "    def handle_data(self, data):\n",
    "        if self.x:\n",
    "            indentation = self.x[-1]\n",
    "            print(' ' * indentation, data.strip())\n",
    "\n",
    "infile = open('w3c.html')\n",
    "content = infile.read()\n",
    "infile.close()\n",
    "hp = HeadingParser()\n",
    "hp.feed(content)"
   ]
  },
  {
   "cell_type": "code",
   "execution_count": 154,
   "id": "9f2685ed",
   "metadata": {},
   "outputs": [
    {
     "name": "stdout",
     "output_type": "stream",
     "text": [
      "http://reed.cs.depaul.edu/lperkovic/csc242/test1.html\n"
     ]
    }
   ],
   "source": [
    "# Question 7\n",
    "\n",
    "import requests\n",
    "from bs4 import BeautifulSoup\n",
    "\n",
    "def webdir(url, depth, indent):\n",
    "    print(\" \"*indent + url)\n",
    "    \n",
    "    if depth == 0:\n",
    "         return\n",
    "        \n",
    "    x = requests.get(url)\n",
    "    html = x.content\n",
    "    soup = BeautifulSoup(html, 'html.parser')\n",
    "    links = soup.find_all('a')\n",
    "\n",
    "    for link in links:\n",
    "        href = link.get('href')\n",
    "        if href.startswith('http'):\n",
    "            webdir(href, depth-1, indent+4)\n",
    "\n",
    "webdir('http://reed.cs.depaul.edu/lperkovic/csc242/test1.html', 2, 0)\n"
   ]
  },
  {
   "cell_type": "code",
   "execution_count": 161,
   "id": "621affa8",
   "metadata": {},
   "outputs": [],
   "source": [
    "# Question 8\n",
    "\n",
    "import sqlite3\n",
    "\n",
    "with sqlite3.connect('weather_A3.db') as conn:\n",
    "    c = conn.cursor()\n",
    "    c.execute('''CREATE TABLE Weather_Tble\n",
    "                   (city TEXT, country TEXT, season TEXT, temp REAL, rain REAL)''')\n",
    "\n",
    "data = [('Mumbai', 'India', 'Winter', 24.8, 5.9),\n",
    "        ('Mumbai', 'India', 'Spring', 28.4, 16.2),\n",
    "        ('Mumbai', 'India', 'Summer', 27.9, 1549.4),\n",
    "        ('Mumbai', 'India', 'Fall', 27.6, 346.0),\n",
    "        ('London', 'United Kingdom', 'Winter', 4.2, 207.7),\n",
    "        ('London', 'United Kingdom', 'Spring', 8.3, 169.6),\n",
    "        ('London', 'United Kingdom', 'Summer', 15.7, 157.0),\n",
    "        ('London', 'United Kingdom', 'Fall', 10.4, 218.5),\n",
    "        ('Cairo', 'Egypt', 'Winter', 13.6, 16.5),\n",
    "        ('Cairo', 'Egypt', 'Spring', 20.7, 6.5),\n",
    "        ('Cairo', 'Egypt', 'Summer', 27.7, 0.1),\n",
    "        ('Cairo', 'Egypt', 'Fall', 22.2, 4.5)]\n",
    "\n",
    "with sqlite3.connect('weather_A3.db') as conn:\n",
    "    c = conn.cursor()\n",
    "    c.executemany(\"INSERT INTO Weather_Tble VALUES (?, ?, ?, ?, ?)\", data)\n",
    "conn.commit()"
   ]
  },
  {
   "cell_type": "code",
   "execution_count": 162,
   "id": "67eb6c20",
   "metadata": {},
   "outputs": [
    {
     "name": "stdout",
     "output_type": "stream",
     "text": [
      "(24.8,)\n",
      "(28.4,)\n",
      "(27.9,)\n",
      "(27.6,)\n",
      "(4.2,)\n",
      "(8.3,)\n",
      "(15.7,)\n",
      "(10.4,)\n",
      "(13.6,)\n",
      "(20.7,)\n",
      "(27.7,)\n",
      "(22.2,)\n",
      "\n",
      "('Mumbai',)\n",
      "('London',)\n",
      "('Cairo',)\n",
      "\n",
      "('Mumbai', 'India', 'Winter', 24.8, 5.9)\n",
      "('Mumbai', 'India', 'Spring', 28.4, 16.2)\n",
      "('Mumbai', 'India', 'Summer', 27.9, 1549.4)\n",
      "('Mumbai', 'India', 'Fall', 27.6, 346.0)\n",
      "\n",
      "('Mumbai', 'India', 'Fall', 27.6, 346.0)\n",
      "('London', 'United Kingdom', 'Fall', 10.4, 218.5)\n",
      "('Cairo', 'Egypt', 'Fall', 22.2, 4.5)\n",
      "\n",
      "('London', 'United Kingdom', 'Fall')\n",
      "('London', 'United Kingdom', 'Winter')\n",
      "('Mumbai', 'India', 'Fall')\n",
      "\n",
      "('Cairo', 'Egypt')\n",
      "('Mumbai', 'India')\n",
      "\n",
      "(27.6,)\n",
      "\n",
      "('Fall', 569.0)\n",
      "('Spring', 192.29999999999998)\n",
      "('Summer', 1706.5)\n",
      "('Winter', 230.1)\n",
      "\n"
     ]
    }
   ],
   "source": [
    "c.execute('SELECT temp FROM Weather_Tble')\n",
    "for row in c:\n",
    "    print(row)\n",
    "print()\n",
    "    \n",
    "c.execute('SELECT DISTINCT city FROM Weather_Tble')\n",
    "for row in c:\n",
    "    print(row)\n",
    "print()\n",
    "\n",
    "c.execute('SELECT * FROM Weather_Tble WHERE country=\"India\"')\n",
    "for row in c:\n",
    "    print(row)\n",
    "print()\n",
    "\n",
    "c.execute('SELECT * FROM Weather_Tble WHERE season = \"Fall\"')\n",
    "for row in c:\n",
    "    print(row)\n",
    "print()\n",
    "\n",
    "c.execute('SELECT city, country, Season FROM Weather_Tble GROUP BY city, country, Season HAVING AVG(rain) BETWEEN 200 AND 400')\n",
    "for row in c:\n",
    "    print(row)\n",
    "print()\n",
    "\n",
    "c.execute('SELECT city, country FROM Weather_Tble WHERE season = \"Fall\" GROUP BY city, country HAVING AVG(temp) > 20 ORDER BY AVG(temp) ASC')\n",
    "for row in c:\n",
    "    print(row)\n",
    "print()\n",
    "\n",
    "c.execute('SELECT SUM(rain) AS Total_Rainfall FROM Weather_Tble WHERE city = \"Cairo\"')\n",
    "for row in c:\n",
    "    print(row)\n",
    "print()\n",
    "\n",
    "c.execute('SELECT season, SUM(rain) AS Total_Rainfall FROM Weather_Tble GROUP BY season')\n",
    "for row in c:\n",
    "    print(row)\n",
    "print()"
   ]
  },
  {
   "cell_type": "code",
   "execution_count": 167,
   "id": "2803ea13",
   "metadata": {},
   "outputs": [
    {
     "name": "stdout",
     "output_type": "stream",
     "text": [
      "['THE', 'QUICK', 'BROWN', 'FOX', 'JUMPS', 'OVER', 'THE', 'LAZY', 'DOG']\n",
      "\n",
      "['the', 'quick', 'brown', 'fox', 'jumps', 'over', 'the', 'lazy', 'dog']\n",
      "\n",
      "[3, 5, 5, 3, 5, 4, 3, 4, 3]\n",
      "\n",
      "[['THE', 'the', 3], ['QUICK', 'quick', 5], ['BROWN', 'brown', 5], ['FOX', 'fox', 3], ['JUMPS', 'jumps', 5], ['OVER', 'over', 4], ['THE', 'the', 3], ['LAZY', 'lazy', 4], ['DOG', 'dog', 3]]\n",
      "\n",
      "['quick', 'brown', 'jumps', 'over', 'lazy']\n"
     ]
    }
   ],
   "source": [
    "# Question 9\n",
    "\n",
    "words = ['The', 'quick', 'brown', 'fox', 'jumps', 'over', 'the', 'lazy', 'dog'] \n",
    "\n",
    "a = [spell.upper() for spell in words]\n",
    "print(a)\n",
    "print()\n",
    "\n",
    "b = [spell.lower() for spell in words]\n",
    "print(b)\n",
    "print()\n",
    "\n",
    "c = [len(spell) for spell in words]\n",
    "print(c)\n",
    "print()\n",
    "\n",
    "d = [[spell.upper(), spell.lower(), len(spell)] for spell in words]\n",
    "print(d)\n",
    "print()\n",
    "\n",
    "e = [spell for spell in words if len(spell) > 3]\n",
    "print(e)"
   ]
  }
 ],
 "metadata": {
  "kernelspec": {
   "display_name": "Python 3 (ipykernel)",
   "language": "python",
   "name": "python3"
  },
  "language_info": {
   "codemirror_mode": {
    "name": "ipython",
    "version": 3
   },
   "file_extension": ".py",
   "mimetype": "text/x-python",
   "name": "python",
   "nbconvert_exporter": "python",
   "pygments_lexer": "ipython3",
   "version": "3.9.13"
  }
 },
 "nbformat": 4,
 "nbformat_minor": 5
}
